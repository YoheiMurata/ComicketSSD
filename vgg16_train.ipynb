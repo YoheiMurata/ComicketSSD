{
  "cells": [
    {
      "cell_type": "markdown",
      "metadata": {
        "id": "view-in-github",
        "colab_type": "text"
      },
      "source": [
        "<a href=\"https://colab.research.google.com/github/YoheiMurata/ComicketSSD/blob/main/vgg16_train.ipynb\" target=\"_parent\"><img src=\"https://colab.research.google.com/assets/colab-badge.svg\" alt=\"Open In Colab\"/></a>"
      ]
    },
    {
      "cell_type": "code",
      "execution_count": 41,
      "metadata": {
        "colab": {
          "base_uri": "https://localhost:8080/"
        },
        "id": "EHWTl0p-ibWc",
        "outputId": "4fa19465-2620-44fc-ca65-b59b8e24edd7"
      },
      "outputs": [
        {
          "output_type": "stream",
          "name": "stdout",
          "text": [
            "Requirement already satisfied: fiftyone in /usr/local/lib/python3.10/dist-packages (0.23.2)\n",
            "Requirement already satisfied: aiofiles in /usr/local/lib/python3.10/dist-packages (from fiftyone) (23.2.1)\n",
            "Requirement already satisfied: argcomplete in /usr/local/lib/python3.10/dist-packages (from fiftyone) (3.2.1)\n",
            "Requirement already satisfied: beautifulsoup4 in /usr/local/lib/python3.10/dist-packages (from fiftyone) (4.11.2)\n",
            "Requirement already satisfied: boto3 in /usr/local/lib/python3.10/dist-packages (from fiftyone) (1.34.19)\n",
            "Requirement already satisfied: cachetools in /usr/local/lib/python3.10/dist-packages (from fiftyone) (5.3.2)\n",
            "Requirement already satisfied: dacite<1.8.0,>=1.6.0 in /usr/local/lib/python3.10/dist-packages (from fiftyone) (1.7.0)\n",
            "Requirement already satisfied: Deprecated in /usr/local/lib/python3.10/dist-packages (from fiftyone) (1.2.14)\n",
            "Requirement already satisfied: ftfy in /usr/local/lib/python3.10/dist-packages (from fiftyone) (6.1.3)\n",
            "Requirement already satisfied: humanize in /usr/local/lib/python3.10/dist-packages (from fiftyone) (4.7.0)\n",
            "Requirement already satisfied: hypercorn>=0.13.2 in /usr/local/lib/python3.10/dist-packages (from fiftyone) (0.16.0)\n",
            "Requirement already satisfied: Jinja2>=3 in /usr/local/lib/python3.10/dist-packages (from fiftyone) (3.1.2)\n",
            "Requirement already satisfied: kaleido!=0.2.1.post1 in /usr/local/lib/python3.10/dist-packages (from fiftyone) (0.2.1)\n",
            "Requirement already satisfied: matplotlib in /usr/local/lib/python3.10/dist-packages (from fiftyone) (3.7.1)\n",
            "Requirement already satisfied: mongoengine==0.24.2 in /usr/local/lib/python3.10/dist-packages (from fiftyone) (0.24.2)\n",
            "Requirement already satisfied: motor>=2.5 in /usr/local/lib/python3.10/dist-packages (from fiftyone) (3.3.2)\n",
            "Requirement already satisfied: numpy in /usr/local/lib/python3.10/dist-packages (from fiftyone) (1.23.5)\n",
            "Requirement already satisfied: packaging in /usr/local/lib/python3.10/dist-packages (from fiftyone) (23.2)\n",
            "Requirement already satisfied: pandas in /usr/local/lib/python3.10/dist-packages (from fiftyone) (1.5.3)\n",
            "Requirement already satisfied: Pillow>=6.2 in /usr/local/lib/python3.10/dist-packages (from fiftyone) (9.4.0)\n",
            "Requirement already satisfied: plotly>=4.14 in /usr/local/lib/python3.10/dist-packages (from fiftyone) (5.15.0)\n",
            "Requirement already satisfied: pprintpp in /usr/local/lib/python3.10/dist-packages (from fiftyone) (0.4.0)\n",
            "Requirement already satisfied: psutil in /usr/local/lib/python3.10/dist-packages (from fiftyone) (5.9.5)\n",
            "Requirement already satisfied: pymongo>=3.12 in /usr/local/lib/python3.10/dist-packages (from fiftyone) (4.6.1)\n",
            "Requirement already satisfied: pytz in /usr/local/lib/python3.10/dist-packages (from fiftyone) (2023.3.post1)\n",
            "Requirement already satisfied: PyYAML in /usr/local/lib/python3.10/dist-packages (from fiftyone) (6.0.1)\n",
            "Requirement already satisfied: regex in /usr/local/lib/python3.10/dist-packages (from fiftyone) (2023.6.3)\n",
            "Requirement already satisfied: retrying in /usr/local/lib/python3.10/dist-packages (from fiftyone) (1.3.4)\n",
            "Requirement already satisfied: scikit-learn in /usr/local/lib/python3.10/dist-packages (from fiftyone) (1.2.2)\n",
            "Requirement already satisfied: scikit-image in /usr/local/lib/python3.10/dist-packages (from fiftyone) (0.19.3)\n",
            "Requirement already satisfied: setuptools in /usr/local/lib/python3.10/dist-packages (from fiftyone) (67.7.2)\n",
            "Requirement already satisfied: sseclient-py<2,>=1.7.2 in /usr/local/lib/python3.10/dist-packages (from fiftyone) (1.8.0)\n",
            "Requirement already satisfied: sse-starlette<1,>=0.10.3 in /usr/local/lib/python3.10/dist-packages (from fiftyone) (0.10.3)\n",
            "Requirement already satisfied: starlette>=0.24.0 in /usr/local/lib/python3.10/dist-packages (from fiftyone) (0.35.1)\n",
            "Requirement already satisfied: strawberry-graphql==0.138.1 in /usr/local/lib/python3.10/dist-packages (from fiftyone) (0.138.1)\n",
            "Requirement already satisfied: tabulate in /usr/local/lib/python3.10/dist-packages (from fiftyone) (0.9.0)\n",
            "Requirement already satisfied: xmltodict in /usr/local/lib/python3.10/dist-packages (from fiftyone) (0.13.0)\n",
            "Requirement already satisfied: universal-analytics-python3<2,>=1.0.1 in /usr/local/lib/python3.10/dist-packages (from fiftyone) (1.1.1)\n",
            "Requirement already satisfied: fiftyone-brain<0.15,>=0.14.2 in /usr/local/lib/python3.10/dist-packages (from fiftyone) (0.14.2)\n",
            "Requirement already satisfied: fiftyone-db<2.0,>=0.4 in /usr/local/lib/python3.10/dist-packages (from fiftyone) (0.4.3)\n",
            "Requirement already satisfied: voxel51-eta<0.13,>=0.12.1 in /usr/local/lib/python3.10/dist-packages (from fiftyone) (0.12.4)\n",
            "Requirement already satisfied: opencv-python-headless in /usr/local/lib/python3.10/dist-packages (from fiftyone) (4.9.0.80)\n",
            "Requirement already satisfied: graphql-core<3.3.0,>=3.2.0 in /usr/local/lib/python3.10/dist-packages (from strawberry-graphql==0.138.1->fiftyone) (3.2.3)\n",
            "Requirement already satisfied: python-dateutil<3.0.0,>=2.7.0 in /usr/local/lib/python3.10/dist-packages (from strawberry-graphql==0.138.1->fiftyone) (2.8.2)\n",
            "Requirement already satisfied: typing_extensions<5.0.0,>=3.7.4 in /usr/local/lib/python3.10/dist-packages (from strawberry-graphql==0.138.1->fiftyone) (4.5.0)\n",
            "Requirement already satisfied: scipy>=1.2.0 in /usr/local/lib/python3.10/dist-packages (from fiftyone-brain<0.15,>=0.14.2->fiftyone) (1.11.4)\n",
            "Requirement already satisfied: h11 in /usr/local/lib/python3.10/dist-packages (from hypercorn>=0.13.2->fiftyone) (0.14.0)\n",
            "Requirement already satisfied: h2>=3.1.0 in /usr/local/lib/python3.10/dist-packages (from hypercorn>=0.13.2->fiftyone) (4.1.0)\n",
            "Requirement already satisfied: priority in /usr/local/lib/python3.10/dist-packages (from hypercorn>=0.13.2->fiftyone) (2.0.0)\n",
            "Requirement already satisfied: taskgroup in /usr/local/lib/python3.10/dist-packages (from hypercorn>=0.13.2->fiftyone) (0.0.0a4)\n",
            "Requirement already satisfied: tomli in /usr/local/lib/python3.10/dist-packages (from hypercorn>=0.13.2->fiftyone) (2.0.1)\n",
            "Requirement already satisfied: wsproto>=0.14.0 in /usr/local/lib/python3.10/dist-packages (from hypercorn>=0.13.2->fiftyone) (1.2.0)\n",
            "Requirement already satisfied: MarkupSafe>=2.0 in /usr/local/lib/python3.10/dist-packages (from Jinja2>=3->fiftyone) (2.1.3)\n",
            "Requirement already satisfied: tenacity>=6.2.0 in /usr/local/lib/python3.10/dist-packages (from plotly>=4.14->fiftyone) (8.2.3)\n",
            "Requirement already satisfied: dnspython<3.0.0,>=1.16.0 in /usr/local/lib/python3.10/dist-packages (from pymongo>=3.12->fiftyone) (2.4.2)\n",
            "Requirement already satisfied: anyio<5,>=3.4.0 in /usr/local/lib/python3.10/dist-packages (from starlette>=0.24.0->fiftyone) (3.7.1)\n",
            "Requirement already satisfied: httpx>=0.10.0 in /usr/local/lib/python3.10/dist-packages (from universal-analytics-python3<2,>=1.0.1->fiftyone) (0.26.0)\n",
            "Requirement already satisfied: dill in /usr/local/lib/python3.10/dist-packages (from voxel51-eta<0.13,>=0.12.1->fiftyone) (0.3.7)\n",
            "Requirement already satisfied: future in /usr/local/lib/python3.10/dist-packages (from voxel51-eta<0.13,>=0.12.1->fiftyone) (0.18.3)\n",
            "Requirement already satisfied: glob2 in /usr/local/lib/python3.10/dist-packages (from voxel51-eta<0.13,>=0.12.1->fiftyone) (0.7)\n",
            "Requirement already satisfied: jsonlines in /usr/local/lib/python3.10/dist-packages (from voxel51-eta<0.13,>=0.12.1->fiftyone) (4.0.0)\n",
            "Requirement already satisfied: py7zr in /usr/local/lib/python3.10/dist-packages (from voxel51-eta<0.13,>=0.12.1->fiftyone) (0.20.8)\n",
            "Requirement already satisfied: rarfile in /usr/local/lib/python3.10/dist-packages (from voxel51-eta<0.13,>=0.12.1->fiftyone) (4.1)\n",
            "Requirement already satisfied: requests in /usr/local/lib/python3.10/dist-packages (from voxel51-eta<0.13,>=0.12.1->fiftyone) (2.31.0)\n",
            "Requirement already satisfied: six in /usr/local/lib/python3.10/dist-packages (from voxel51-eta<0.13,>=0.12.1->fiftyone) (1.16.0)\n",
            "Requirement already satisfied: sortedcontainers in /usr/local/lib/python3.10/dist-packages (from voxel51-eta<0.13,>=0.12.1->fiftyone) (2.4.0)\n",
            "Requirement already satisfied: tzlocal in /usr/local/lib/python3.10/dist-packages (from voxel51-eta<0.13,>=0.12.1->fiftyone) (5.2)\n",
            "Requirement already satisfied: urllib3 in /usr/local/lib/python3.10/dist-packages (from voxel51-eta<0.13,>=0.12.1->fiftyone) (2.0.7)\n",
            "Requirement already satisfied: soupsieve>1.2 in /usr/local/lib/python3.10/dist-packages (from beautifulsoup4->fiftyone) (2.5)\n",
            "Requirement already satisfied: botocore<1.35.0,>=1.34.19 in /usr/local/lib/python3.10/dist-packages (from boto3->fiftyone) (1.34.19)\n",
            "Requirement already satisfied: jmespath<2.0.0,>=0.7.1 in /usr/local/lib/python3.10/dist-packages (from boto3->fiftyone) (1.0.1)\n",
            "Requirement already satisfied: s3transfer<0.11.0,>=0.10.0 in /usr/local/lib/python3.10/dist-packages (from boto3->fiftyone) (0.10.0)\n",
            "Requirement already satisfied: wrapt<2,>=1.10 in /usr/local/lib/python3.10/dist-packages (from Deprecated->fiftyone) (1.14.1)\n",
            "Requirement already satisfied: wcwidth<0.3.0,>=0.2.12 in /usr/local/lib/python3.10/dist-packages (from ftfy->fiftyone) (0.2.12)\n",
            "Requirement already satisfied: contourpy>=1.0.1 in /usr/local/lib/python3.10/dist-packages (from matplotlib->fiftyone) (1.2.0)\n",
            "Requirement already satisfied: cycler>=0.10 in /usr/local/lib/python3.10/dist-packages (from matplotlib->fiftyone) (0.12.1)\n",
            "Requirement already satisfied: fonttools>=4.22.0 in /usr/local/lib/python3.10/dist-packages (from matplotlib->fiftyone) (4.47.0)\n",
            "Requirement already satisfied: kiwisolver>=1.0.1 in /usr/local/lib/python3.10/dist-packages (from matplotlib->fiftyone) (1.4.5)\n",
            "Requirement already satisfied: pyparsing>=2.3.1 in /usr/local/lib/python3.10/dist-packages (from matplotlib->fiftyone) (3.1.1)\n",
            "Requirement already satisfied: networkx>=2.2 in /usr/local/lib/python3.10/dist-packages (from scikit-image->fiftyone) (3.2.1)\n",
            "Requirement already satisfied: imageio>=2.4.1 in /usr/local/lib/python3.10/dist-packages (from scikit-image->fiftyone) (2.31.6)\n",
            "Requirement already satisfied: tifffile>=2019.7.26 in /usr/local/lib/python3.10/dist-packages (from scikit-image->fiftyone) (2023.12.9)\n",
            "Requirement already satisfied: PyWavelets>=1.1.1 in /usr/local/lib/python3.10/dist-packages (from scikit-image->fiftyone) (1.5.0)\n",
            "Requirement already satisfied: joblib>=1.1.1 in /usr/local/lib/python3.10/dist-packages (from scikit-learn->fiftyone) (1.3.2)\n",
            "Requirement already satisfied: threadpoolctl>=2.0.0 in /usr/local/lib/python3.10/dist-packages (from scikit-learn->fiftyone) (3.2.0)\n",
            "Requirement already satisfied: idna>=2.8 in /usr/local/lib/python3.10/dist-packages (from anyio<5,>=3.4.0->starlette>=0.24.0->fiftyone) (3.6)\n",
            "Requirement already satisfied: sniffio>=1.1 in /usr/local/lib/python3.10/dist-packages (from anyio<5,>=3.4.0->starlette>=0.24.0->fiftyone) (1.3.0)\n",
            "Requirement already satisfied: exceptiongroup in /usr/local/lib/python3.10/dist-packages (from anyio<5,>=3.4.0->starlette>=0.24.0->fiftyone) (1.2.0)\n",
            "Requirement already satisfied: hyperframe<7,>=6.0 in /usr/local/lib/python3.10/dist-packages (from h2>=3.1.0->hypercorn>=0.13.2->fiftyone) (6.0.1)\n",
            "Requirement already satisfied: hpack<5,>=4.0 in /usr/local/lib/python3.10/dist-packages (from h2>=3.1.0->hypercorn>=0.13.2->fiftyone) (4.0.0)\n",
            "Requirement already satisfied: certifi in /usr/local/lib/python3.10/dist-packages (from httpx>=0.10.0->universal-analytics-python3<2,>=1.0.1->fiftyone) (2023.11.17)\n",
            "Requirement already satisfied: httpcore==1.* in /usr/local/lib/python3.10/dist-packages (from httpx>=0.10.0->universal-analytics-python3<2,>=1.0.1->fiftyone) (1.0.2)\n",
            "Requirement already satisfied: attrs>=19.2.0 in /usr/local/lib/python3.10/dist-packages (from jsonlines->voxel51-eta<0.13,>=0.12.1->fiftyone) (23.2.0)\n",
            "Requirement already satisfied: texttable in /usr/local/lib/python3.10/dist-packages (from py7zr->voxel51-eta<0.13,>=0.12.1->fiftyone) (1.7.0)\n",
            "Requirement already satisfied: pycryptodomex>=3.16.0 in /usr/local/lib/python3.10/dist-packages (from py7zr->voxel51-eta<0.13,>=0.12.1->fiftyone) (3.20.0)\n",
            "Requirement already satisfied: pyzstd>=0.15.9 in /usr/local/lib/python3.10/dist-packages (from py7zr->voxel51-eta<0.13,>=0.12.1->fiftyone) (0.15.9)\n",
            "Requirement already satisfied: pyppmd<1.2.0,>=1.1.0 in /usr/local/lib/python3.10/dist-packages (from py7zr->voxel51-eta<0.13,>=0.12.1->fiftyone) (1.1.0)\n",
            "Requirement already satisfied: pybcj<1.1.0,>=1.0.0 in /usr/local/lib/python3.10/dist-packages (from py7zr->voxel51-eta<0.13,>=0.12.1->fiftyone) (1.0.2)\n",
            "Requirement already satisfied: multivolumefile>=0.2.3 in /usr/local/lib/python3.10/dist-packages (from py7zr->voxel51-eta<0.13,>=0.12.1->fiftyone) (0.2.3)\n",
            "Requirement already satisfied: inflate64<1.1.0,>=1.0.0 in /usr/local/lib/python3.10/dist-packages (from py7zr->voxel51-eta<0.13,>=0.12.1->fiftyone) (1.0.0)\n",
            "Requirement already satisfied: brotli>=1.1.0 in /usr/local/lib/python3.10/dist-packages (from py7zr->voxel51-eta<0.13,>=0.12.1->fiftyone) (1.1.0)\n",
            "Requirement already satisfied: charset-normalizer<4,>=2 in /usr/local/lib/python3.10/dist-packages (from requests->voxel51-eta<0.13,>=0.12.1->fiftyone) (3.3.2)\n",
            "Requirement already satisfied: fiftyone-db==0.4.3 in /usr/local/lib/python3.10/dist-packages (0.4.3)\n"
          ]
        }
      ],
      "source": [
        "# FiftyOneでデータを学習データをダウンロードするか。\n",
        "# True： ダウンロードをする\n",
        "# False：ダウンロードせずにGoogleDrive上のデータセットを使う（以前ダウンロードしたことがある前提）\n",
        "isDownload = True\n",
        "# GoogleDriveにダウンロードした学習データを保存するか。\n",
        "# True：保存する\n",
        "# False：保存しない\n",
        "saveDrive = True\n",
        "if isDownload:\n",
        "  !pip install fiftyone\n",
        "  !pip install fiftyone-db==0.4.3\n",
        "\n",
        "  import fiftyone as fo\n",
        "  import fiftyone.zoo as foz"
      ]
    },
    {
      "cell_type": "code",
      "execution_count": 42,
      "metadata": {
        "id": "IYqVQlnZ2Ouo"
      },
      "outputs": [],
      "source": [
        "# 学習を行う対象の画像ラベル\n",
        "model_classes = ['airplane', 'bicycle', 'bird', 'boat', 'bottle', 'bus', 'car', 'cat', 'chair', 'cow', 'dining table', 'dog', 'horse', 'motorcycle', 'person', 'potted plant', 'sheep', 'bed', 'train', 'tv']"
      ]
    },
    {
      "cell_type": "code",
      "execution_count": 43,
      "metadata": {
        "colab": {
          "base_uri": "https://localhost:8080/"
        },
        "id": "YMgC-UXL1exo",
        "outputId": "70823c31-f630-4471-b648-fc769af6e4ea"
      },
      "outputs": [
        {
          "output_type": "stream",
          "name": "stdout",
          "text": [
            "Downloading split 'train' to '/root/fiftyone/coco-2017/train' if necessary\n"
          ]
        },
        {
          "output_type": "stream",
          "name": "stderr",
          "text": [
            "INFO:fiftyone.zoo.datasets:Downloading split 'train' to '/root/fiftyone/coco-2017/train' if necessary\n"
          ]
        },
        {
          "output_type": "stream",
          "name": "stdout",
          "text": [
            "Found annotations at '/root/fiftyone/coco-2017/raw/instances_train2017.json'\n"
          ]
        },
        {
          "output_type": "stream",
          "name": "stderr",
          "text": [
            "INFO:fiftyone.utils.coco:Found annotations at '/root/fiftyone/coco-2017/raw/instances_train2017.json'\n"
          ]
        },
        {
          "output_type": "stream",
          "name": "stdout",
          "text": [
            "Sufficient images already downloaded\n"
          ]
        },
        {
          "output_type": "stream",
          "name": "stderr",
          "text": [
            "INFO:fiftyone.utils.coco:Sufficient images already downloaded\n"
          ]
        },
        {
          "output_type": "stream",
          "name": "stdout",
          "text": [
            "Existing download of split 'train' is sufficient\n"
          ]
        },
        {
          "output_type": "stream",
          "name": "stderr",
          "text": [
            "INFO:fiftyone.zoo.datasets:Existing download of split 'train' is sufficient\n"
          ]
        },
        {
          "output_type": "stream",
          "name": "stdout",
          "text": [
            "Loading existing dataset 'coco-2017-train-6000'. To reload from disk, either delete the existing dataset or provide a custom `dataset_name` to use\n"
          ]
        },
        {
          "output_type": "stream",
          "name": "stderr",
          "text": [
            "INFO:fiftyone.zoo.datasets:Loading existing dataset 'coco-2017-train-6000'. To reload from disk, either delete the existing dataset or provide a custom `dataset_name` to use\n"
          ]
        },
        {
          "output_type": "stream",
          "name": "stdout",
          "text": [
            "Downloading split 'train' to '/root/fiftyone/coco-2017/train' if necessary\n"
          ]
        },
        {
          "output_type": "stream",
          "name": "stderr",
          "text": [
            "INFO:fiftyone.zoo.datasets:Downloading split 'train' to '/root/fiftyone/coco-2017/train' if necessary\n"
          ]
        },
        {
          "output_type": "stream",
          "name": "stdout",
          "text": [
            "Found annotations at '/root/fiftyone/coco-2017/raw/instances_train2017.json'\n"
          ]
        },
        {
          "output_type": "stream",
          "name": "stderr",
          "text": [
            "INFO:fiftyone.utils.coco:Found annotations at '/root/fiftyone/coco-2017/raw/instances_train2017.json'\n"
          ]
        },
        {
          "output_type": "stream",
          "name": "stdout",
          "text": [
            "Sufficient images already downloaded\n"
          ]
        },
        {
          "output_type": "stream",
          "name": "stderr",
          "text": [
            "INFO:fiftyone.utils.coco:Sufficient images already downloaded\n"
          ]
        },
        {
          "output_type": "stream",
          "name": "stdout",
          "text": [
            "Existing download of split 'train' is sufficient\n"
          ]
        },
        {
          "output_type": "stream",
          "name": "stderr",
          "text": [
            "INFO:fiftyone.zoo.datasets:Existing download of split 'train' is sufficient\n"
          ]
        },
        {
          "output_type": "stream",
          "name": "stdout",
          "text": [
            "Downloading split 'validation' to '/root/fiftyone/coco-2017/validation' if necessary\n"
          ]
        },
        {
          "output_type": "stream",
          "name": "stderr",
          "text": [
            "INFO:fiftyone.zoo.datasets:Downloading split 'validation' to '/root/fiftyone/coco-2017/validation' if necessary\n"
          ]
        },
        {
          "output_type": "stream",
          "name": "stdout",
          "text": [
            "Found annotations at '/root/fiftyone/coco-2017/raw/instances_val2017.json'\n"
          ]
        },
        {
          "output_type": "stream",
          "name": "stderr",
          "text": [
            "INFO:fiftyone.utils.coco:Found annotations at '/root/fiftyone/coco-2017/raw/instances_val2017.json'\n"
          ]
        },
        {
          "output_type": "stream",
          "name": "stdout",
          "text": [
            "Only found 4051 (<6000) samples matching your requirements\n"
          ]
        },
        {
          "output_type": "stream",
          "name": "stderr",
          "text": [
            "WARNING:fiftyone.utils.coco:Only found 4051 (<6000) samples matching your requirements\n"
          ]
        },
        {
          "output_type": "stream",
          "name": "stdout",
          "text": [
            "Sufficient images already downloaded\n"
          ]
        },
        {
          "output_type": "stream",
          "name": "stderr",
          "text": [
            "INFO:fiftyone.utils.coco:Sufficient images already downloaded\n"
          ]
        },
        {
          "output_type": "stream",
          "name": "stdout",
          "text": [
            "Existing download of split 'validation' is sufficient\n"
          ]
        },
        {
          "output_type": "stream",
          "name": "stderr",
          "text": [
            "INFO:fiftyone.zoo.datasets:Existing download of split 'validation' is sufficient\n"
          ]
        },
        {
          "output_type": "stream",
          "name": "stdout",
          "text": [
            "Downloading split 'test' to '/root/fiftyone/coco-2017/test' if necessary\n"
          ]
        },
        {
          "output_type": "stream",
          "name": "stderr",
          "text": [
            "INFO:fiftyone.zoo.datasets:Downloading split 'test' to '/root/fiftyone/coco-2017/test' if necessary\n"
          ]
        },
        {
          "output_type": "stream",
          "name": "stdout",
          "text": [
            "Test split is unlabeled; ignoring classes requirement\n"
          ]
        },
        {
          "output_type": "stream",
          "name": "stderr",
          "text": [
            "WARNING:fiftyone.utils.coco:Test split is unlabeled; ignoring classes requirement\n"
          ]
        },
        {
          "output_type": "stream",
          "name": "stdout",
          "text": [
            "Found test info at '/root/fiftyone/coco-2017/raw/image_info_test2017.json'\n"
          ]
        },
        {
          "output_type": "stream",
          "name": "stderr",
          "text": [
            "INFO:fiftyone.utils.coco:Found test info at '/root/fiftyone/coco-2017/raw/image_info_test2017.json'\n"
          ]
        },
        {
          "output_type": "stream",
          "name": "stdout",
          "text": [
            "Sufficient images already downloaded\n"
          ]
        },
        {
          "output_type": "stream",
          "name": "stderr",
          "text": [
            "INFO:fiftyone.utils.coco:Sufficient images already downloaded\n"
          ]
        },
        {
          "output_type": "stream",
          "name": "stdout",
          "text": [
            "Existing download of split 'test' is sufficient\n"
          ]
        },
        {
          "output_type": "stream",
          "name": "stderr",
          "text": [
            "INFO:fiftyone.zoo.datasets:Existing download of split 'test' is sufficient\n"
          ]
        },
        {
          "output_type": "stream",
          "name": "stdout",
          "text": [
            "Loading existing dataset 'coco-2017-6000'. To reload from disk, either delete the existing dataset or provide a custom `dataset_name` to use\n"
          ]
        },
        {
          "output_type": "stream",
          "name": "stderr",
          "text": [
            "INFO:fiftyone.zoo.datasets:Loading existing dataset 'coco-2017-6000'. To reload from disk, either delete the existing dataset or provide a custom `dataset_name` to use\n"
          ]
        }
      ],
      "source": [
        "if isDownload:\n",
        "  train_dataset = foz.load_zoo_dataset(\n",
        "    #\"open-images-v6\",\n",
        "    \"coco-2017\",\n",
        "    split=\"train\",\n",
        "    label_types=[\"detections\"],\n",
        "    shuffle = True,\n",
        "    classes=model_classes,\n",
        "    max_samples=6000,\n",
        "    only_matching=True,\n",
        "    )\n",
        "  test_dataset = foz.load_zoo_dataset(\n",
        "    #\"open-images-v6\",\n",
        "    \"coco-2017\",\n",
        "    label_types=[\"detections\"],\n",
        "    shuffle = True,\n",
        "    classes=model_classes,\n",
        "    max_samples=6000,\n",
        "    only_matching=True,\n",
        "    )"
      ]
    },
    {
      "cell_type": "code",
      "execution_count": 44,
      "metadata": {
        "colab": {
          "base_uri": "https://localhost:8080/",
          "height": 804
        },
        "id": "GvzFTx7LKEok",
        "outputId": "39e34d34-49d3-45bf-af30-d8ae106a7102"
      },
      "outputs": [
        {
          "output_type": "display_data",
          "data": {
            "text/plain": [
              "<IPython.core.display.HTML object>"
            ],
            "text/html": [
              "\n",
              "<style>\n",
              "\n",
              "@import url(\"https://fonts.googleapis.com/css2?family=Palanquin&display=swap\");\n",
              "\n",
              "body, html {\n",
              "  margin: 0;\n",
              "  padding: 0;\n",
              "  width: 100%;\n",
              "}\n",
              "\n",
              "#focontainer-4762347b-fd7b-4a23-8788-e3c80688f28e {\n",
              "  position: relative;\n",
              "  height: px;\n",
              "  display: block !important;\n",
              "}\n",
              "#foactivate-4762347b-fd7b-4a23-8788-e3c80688f28e {\n",
              "  font-weight: bold;\n",
              "  cursor: pointer;\n",
              "  font-size: 24px;\n",
              "  border-radius: 3px;\n",
              "  text-align: center;\n",
              "  padding: 0.5em;\n",
              "  color: rgb(255, 255, 255);\n",
              "  font-family: \"Palanquin\", sans-serif;\n",
              "  position: absolute;\n",
              "  left: 50%;\n",
              "  top: 50%;\n",
              "  width: 160px;\n",
              "  margin-left: -80px;\n",
              "  margin-top: -23px;\n",
              "  background: hsla(210,11%,15%, 0.8);\n",
              "  border: none;\n",
              "}\n",
              "#foactivate-4762347b-fd7b-4a23-8788-e3c80688f28e:focus {\n",
              "  outline: none;\n",
              "}\n",
              "#fooverlay-4762347b-fd7b-4a23-8788-e3c80688f28e {\n",
              "  width: 100%;\n",
              "  height: 100%;\n",
              "  background: hsla(208, 7%, 46%, 0.7);\n",
              "  position: absolute;\n",
              "  top: 0;\n",
              "  left: 0;\n",
              "  display: none;\n",
              "  cursor: pointer;\n",
              "}\n",
              "</style>\n",
              "<div id=\"focontainer-4762347b-fd7b-4a23-8788-e3c80688f28e\" style=\"display: none;\">\n",
              "   <div id=\"fooverlay-4762347b-fd7b-4a23-8788-e3c80688f28e\">\n",
              "      <button id=\"foactivate-4762347b-fd7b-4a23-8788-e3c80688f28e\" >Activate</button>\n",
              "   </div>\n",
              "</div>"
            ]
          },
          "metadata": {}
        }
      ],
      "source": [
        "if isDownload:\n",
        "  fo.launch_app(train_dataset)"
      ]
    },
    {
      "cell_type": "code",
      "execution_count": 45,
      "metadata": {
        "colab": {
          "base_uri": "https://localhost:8080/"
        },
        "id": "rAacfGoRunEe",
        "outputId": "d2a3a45c-9821-47ce-d076-79847d09800b"
      },
      "outputs": [
        {
          "output_type": "stream",
          "name": "stdout",
          "text": [
            "Drive already mounted at drive; to attempt to forcibly remount, call drive.mount(\"drive\", force_remount=True).\n"
          ]
        }
      ],
      "source": [
        "from google.colab import drive\n",
        "\n",
        "root_path = 'drive'\n",
        "# GoogleDrive上のパス。保存先変更する場合はここを修正\n",
        "dataset_path = '/MyDrive/ssd/dataset/classification/'\n",
        "drive.mount(root_path)"
      ]
    },
    {
      "cell_type": "code",
      "execution_count": 46,
      "metadata": {
        "id": "mdGXLjkRCLQ4",
        "colab": {
          "base_uri": "https://localhost:8080/"
        },
        "outputId": "84cabf0b-f791-4bcf-e3d8-76897ee82973"
      },
      "outputs": [
        {
          "output_type": "stream",
          "name": "stdout",
          "text": [
            "Directory 'drive/MyDrive/ssd/dataset/classification/Test' already exists; export will be merged with existing files\n"
          ]
        },
        {
          "output_type": "stream",
          "name": "stderr",
          "text": [
            "WARNING:fiftyone.core.collections:Directory 'drive/MyDrive/ssd/dataset/classification/Test' already exists; export will be merged with existing files\n"
          ]
        },
        {
          "output_type": "stream",
          "name": "stdout",
          "text": [
            "Detected an image classification exporter and a label field 'ground_truth' of type <class 'fiftyone.core.labels.Detections'>. Exporting image patches...\n"
          ]
        },
        {
          "output_type": "stream",
          "name": "stderr",
          "text": [
            "INFO:fiftyone.utils.data.exporters:Detected an image classification exporter and a label field 'ground_truth' of type <class 'fiftyone.core.labels.Detections'>. Exporting image patches...\n"
          ]
        },
        {
          "output_type": "stream",
          "name": "stdout",
          "text": [
            " 100% |█████████████| 51134/51134 [3.1h elapsed, 0s remaining, 55.8 samples/s]      \n"
          ]
        },
        {
          "output_type": "stream",
          "name": "stderr",
          "text": [
            "INFO:eta.core.utils: 100% |█████████████| 51134/51134 [3.1h elapsed, 0s remaining, 55.8 samples/s]      \n"
          ]
        },
        {
          "output_type": "stream",
          "name": "stdout",
          "text": [
            "Detected an image classification exporter and a label field 'ground_truth' of type <class 'fiftyone.core.labels.Detections'>. Exporting image patches...\n"
          ]
        },
        {
          "output_type": "stream",
          "name": "stderr",
          "text": [
            "INFO:fiftyone.utils.data.exporters:Detected an image classification exporter and a label field 'ground_truth' of type <class 'fiftyone.core.labels.Detections'>. Exporting image patches...\n"
          ]
        },
        {
          "output_type": "stream",
          "name": "stdout",
          "text": [
            " 100% |█████████████| 30282/30282 [5.2m elapsed, 0s remaining, 118.6 samples/s]      \n"
          ]
        },
        {
          "output_type": "stream",
          "name": "stderr",
          "text": [
            "INFO:eta.core.utils: 100% |█████████████| 30282/30282 [5.2m elapsed, 0s remaining, 118.6 samples/s]      \n"
          ]
        }
      ],
      "source": [
        "if isDownload and saveDrive:\n",
        "  test_dataset.export(export_dir = root_path + dataset_path + 'Test',\n",
        "               dataset_type = fo.types.ImageClassificationDirectoryTree,\n",
        "               )\n",
        "  train_dataset.export(export_dir = root_path + dataset_path + 'Train',\n",
        "               dataset_type = fo.types.ImageClassificationDirectoryTree,\n",
        "               )\n"
      ]
    },
    {
      "cell_type": "code",
      "execution_count": 47,
      "metadata": {
        "colab": {
          "base_uri": "https://localhost:8080/"
        },
        "id": "1JnU48Q46Fbc",
        "outputId": "3b722550-a265-4e0a-8999-e2732821d6cb"
      },
      "outputs": [
        {
          "output_type": "stream",
          "name": "stdout",
          "text": [
            "Detected an image classification exporter and a label field 'ground_truth' of type <class 'fiftyone.core.labels.Detections'>. Exporting image patches...\n"
          ]
        },
        {
          "output_type": "stream",
          "name": "stderr",
          "text": [
            "INFO:fiftyone.utils.data.exporters:Detected an image classification exporter and a label field 'ground_truth' of type <class 'fiftyone.core.labels.Detections'>. Exporting image patches...\n"
          ]
        },
        {
          "output_type": "stream",
          "name": "stdout",
          "text": [
            " 100% |█████████████| 51134/51134 [2.6m elapsed, 0s remaining, 184.4 samples/s]      \n"
          ]
        },
        {
          "output_type": "stream",
          "name": "stderr",
          "text": [
            "INFO:eta.core.utils: 100% |█████████████| 51134/51134 [2.6m elapsed, 0s remaining, 184.4 samples/s]      \n"
          ]
        },
        {
          "output_type": "stream",
          "name": "stdout",
          "text": [
            "Detected an image classification exporter and a label field 'ground_truth' of type <class 'fiftyone.core.labels.Detections'>. Exporting image patches...\n"
          ]
        },
        {
          "output_type": "stream",
          "name": "stderr",
          "text": [
            "INFO:fiftyone.utils.data.exporters:Detected an image classification exporter and a label field 'ground_truth' of type <class 'fiftyone.core.labels.Detections'>. Exporting image patches...\n"
          ]
        },
        {
          "output_type": "stream",
          "name": "stdout",
          "text": [
            " 100% |█████████████| 30282/30282 [1.6m elapsed, 0s remaining, 344.4 samples/s]      \n"
          ]
        },
        {
          "output_type": "stream",
          "name": "stderr",
          "text": [
            "INFO:eta.core.utils: 100% |█████████████| 30282/30282 [1.6m elapsed, 0s remaining, 344.4 samples/s]      \n"
          ]
        }
      ],
      "source": [
        "!rm -rf ./Test\n",
        "!rm -rf ./Train\n",
        "\n",
        "# FiftyOneを利用してダウンロードした場合は、仮想マシンのローカルにも\n",
        "# データセットを出力する。そうでない場合はGoogle Drive上のパスからローカルにコピーしてくる\n",
        "if isDownload:\n",
        "  test_dataset.export(export_dir = './Test',\n",
        "                 dataset_type = fo.types.ImageClassificationDirectoryTree,\n",
        "                 )\n",
        "  train_dataset.export(export_dir = './Train',\n",
        "               dataset_type = fo.types.ImageClassificationDirectoryTree,\n",
        "               )\n",
        "else:\n",
        "  !cp -R $root_path$dataset_path'Test' ./\n",
        "  !cp -R $root_path$dataset_path'Train' ./\n"
      ]
    },
    {
      "cell_type": "code",
      "execution_count": 48,
      "metadata": {
        "id": "t0fxCpqTtggy"
      },
      "outputs": [],
      "source": [
        "import torch\n",
        "import torch.nn as nn\n",
        "import torch.nn.functional as F\n",
        "import torchvision\n",
        "import torchvision.transforms as transforms"
      ]
    },
    {
      "cell_type": "code",
      "execution_count": 49,
      "metadata": {
        "id": "RHog4OgstMk2"
      },
      "outputs": [],
      "source": [
        "import xml.etree.ElementTree as ET\n",
        "from PIL import Image\n",
        "import matplotlib.pyplot as plt\n",
        "import random\n",
        "import cv2\n",
        "from google.colab import drive\n",
        "import glob\n",
        "import os\n",
        "import numpy as np\n",
        "import torch.optim as optim"
      ]
    },
    {
      "cell_type": "code",
      "execution_count": 50,
      "metadata": {
        "id": "7p3kQo5iGEQL"
      },
      "outputs": [],
      "source": [
        "insize = 224"
      ]
    },
    {
      "cell_type": "code",
      "execution_count": 51,
      "metadata": {
        "id": "Yyl78Ke6tdM_"
      },
      "outputs": [],
      "source": [
        "# SSDの先頭部分は一般的なVGG-16となる。本コードではVGG-16の実装を返す関数を定義する\n",
        "def make_vgg():\n",
        "  cfg = [ 64, 64, 'M', 128, 128, 'M', 256, 256, 256, 'C', 512, 512, 512, 'M', 512, 512, 512 ]\n",
        "\n",
        "  layers = []\n",
        "  in_channels = 3\n",
        "  for v in cfg:\n",
        "    if v == 'M':\n",
        "      layers += [ nn.MaxPool2d( kernel_size = 2, stride = 2 ) ]\n",
        "    elif v == 'C':\n",
        "      ## Ceil_modeは端数を切り上げる（少数第一桁以下を切り上げる）ことをさす。デフォルトは切り捨て\n",
        "      layers += [ nn.MaxPool2d( kernel_size = 2, stride = 2, ceil_mode = True ) ]\n",
        "    else:\n",
        "        conv2d = nn.Conv2d( in_channels, v, kernel_size = 3, padding = 1 )\n",
        "        layers += [ conv2d, nn.ReLU( inplace = True ) ]\n",
        "        in_channels = v\n",
        "  pool5 = nn.MaxPool2d( kernel_size = 3, stride = 1, padding = 1 )\n",
        "  conv6 = nn.Conv2d( 512, 1024, kernel_size = 3, padding = 6, dilation = 6 )\n",
        "  conv7 = nn.Conv2d( 1024, 1024, kernel_size = 1 )\n",
        "  layers += [ pool5, conv6, nn.ReLU( inplace = True ), conv7, nn.ReLU( inplace = True ) ]\n",
        "\n",
        "  return nn.ModuleList( layers )"
      ]
    },
    {
      "cell_type": "code",
      "execution_count": 52,
      "metadata": {
        "colab": {
          "base_uri": "https://localhost:8080/"
        },
        "id": "CoM-TAG3fFNk",
        "outputId": "c25b2fef-9255-409b-fac6-3c2f10a68ffa"
      },
      "outputs": [
        {
          "output_type": "stream",
          "name": "stderr",
          "text": [
            "/usr/local/lib/python3.10/dist-packages/torchvision/models/_utils.py:208: UserWarning: The parameter 'pretrained' is deprecated since 0.13 and may be removed in the future, please use 'weights' instead.\n",
            "  warnings.warn(\n",
            "/usr/local/lib/python3.10/dist-packages/torchvision/models/_utils.py:223: UserWarning: Arguments other than a weight enum or `None` for 'weights' are deprecated since 0.13 and may be removed in the future. The current behavior is equivalent to passing `weights=VGG16_Weights.IMAGENET1K_V1`. You can also use `weights=VGG16_Weights.DEFAULT` to get the most up-to-date weights.\n",
            "  warnings.warn(msg)\n"
          ]
        }
      ],
      "source": [
        "vgg16 = torchvision.models.vgg16(pretrained=True)\n"
      ]
    },
    {
      "cell_type": "code",
      "execution_count": 53,
      "metadata": {
        "id": "ZLLGT6snEgHT"
      },
      "outputs": [],
      "source": [
        "class Vgg16Classifier(nn.Module):\n",
        "  def __init__(self, num_classes, fc_size):\n",
        "    super(Vgg16Classifier, self).__init__()\n",
        "    self.vgg = make_vgg()\n",
        "    self.avg = nn.AdaptiveAvgPool2d(7)\n",
        "    self.classifier = nn.Sequential(\n",
        "        nn.Linear( fc_size, 4096 ),\n",
        "        nn.ReLU( inplace = True ),\n",
        "        nn.Dropout( p = 0.5 ),\n",
        "        nn.Linear( 4096, 4096 ),\n",
        "        nn.ReLU( inplace = True ),\n",
        "        nn.Dropout( p = 0.5 ),\n",
        "        nn.Linear( 4096, num_classes )\n",
        "    )\n",
        "\n",
        "  def forward(self, x):\n",
        "    for i in range(31):\n",
        "      x = self.vgg[i](x)\n",
        "    x = self.avg(x)\n",
        "    h = x.view(x.size(0), -1)\n",
        "    h = self.classifier(h)\n",
        "\n",
        "    return h"
      ]
    },
    {
      "cell_type": "code",
      "execution_count": 54,
      "metadata": {
        "id": "JToBHK-cR0EM"
      },
      "outputs": [],
      "source": [
        "# データセットの加工を定義する\n",
        "data_transforms = {\n",
        "    'train': transforms.Compose([\n",
        "                                 transforms.Resize( ( insize, insize ) ),\n",
        "                                 transforms.RandomHorizontalFlip(),\n",
        "                                 transforms.RandomRotation( ( -15., 15. ) ),\n",
        "                                 transforms.ToTensor(),\n",
        "                                 transforms.Normalize( [ 0.5, 0.5, 0.5 ], [ 0.5, 0.5, 0.5 ] )\n",
        "    ]),\n",
        "    'val': transforms.Compose( [\n",
        "                                transforms.Resize( ( insize, insize ) ),\n",
        "                                transforms.RandomHorizontalFlip(),\n",
        "                                transforms.RandomRotation( ( -15., 15. ) ),\n",
        "                                transforms.ToTensor(),\n",
        "                                transforms.Normalize( [ 0.5, 0.5, 0.5 ], [ 0.5, 0.5, 0.5 ] )\n",
        "    ])\n",
        "}"
      ]
    },
    {
      "cell_type": "code",
      "execution_count": 55,
      "metadata": {
        "id": "ZldPVgDHQH5S"
      },
      "outputs": [],
      "source": [
        "class Vgg16Dataset(torch.utils.data.Dataset):\n",
        "\n",
        "  def __init__(self, root, transform = None, train = True):\n",
        "    # ファイルパスとファイル名のリストを初期化する\n",
        "\n",
        "    self.transform = transform\n",
        "\n",
        "    self.images = []\n",
        "    self.labels = []\n",
        "\n",
        "    self.root = root\n",
        "\n",
        "    category_path = ''\n",
        "    for i, category in enumerate(model_classes):\n",
        "      if train == True:\n",
        "        category_path = os.path.join(root, 'Train', category)\n",
        "      else:\n",
        "        category_path = os.path.join(root, 'Test', category)\n",
        "\n",
        "      category_images = os.listdir(category_path)\n",
        "\n",
        "      category_labels = [i] * len(category_images)\n",
        "      n = 0\n",
        "      for image, label in zip(category_images, category_labels):\n",
        "        self.images.append(os.path.join(category_path, image))\n",
        "        self.labels.append(label)\n",
        "        #データ数が1000以上ある場合は切る\n",
        "        if n > 1000:\n",
        "          break\n",
        "        n += 1\n",
        "\n",
        "  # __getitem__メソッドは特殊メソッドで、これが実装されていると[ index ]で\n",
        "  # 呼び出すことができる\n",
        "  def __getitem__(self, index):\n",
        "    image = self.images[index]\n",
        "    label = self.labels[index]\n",
        "\n",
        "    with open(image, 'rb') as f:\n",
        "      image = Image.open(f)\n",
        "      image = image.convert('RGB')\n",
        "\n",
        "    if self.transform is not None:\n",
        "      image = self.transform(image)\n",
        "\n",
        "    return image, label\n",
        "\n",
        "  def __len__(self):\n",
        "    return len(self.images)"
      ]
    },
    {
      "cell_type": "code",
      "execution_count": 56,
      "metadata": {
        "colab": {
          "base_uri": "https://localhost:8080/"
        },
        "id": "dWFS2C1kt7G4",
        "outputId": "dfa9d651-7d9d-48b3-b884-b05410ef0449"
      },
      "outputs": [
        {
          "output_type": "execute_result",
          "data": {
            "text/plain": [
              "<All keys matched successfully>"
            ]
          },
          "metadata": {},
          "execution_count": 56
        }
      ],
      "source": [
        "device = 'cuda' if torch.cuda.is_available() else 'cpu'\n",
        "\n",
        "model = Vgg16Classifier(len(model_classes), 512 * 7 * 7).to(device)\n",
        "vgg16 = vgg16.to(device)\n",
        "for i in range(30):\n",
        "  model.vgg[i].parameters = vgg16.features[i].parameters\n",
        "\n",
        "model.vgg.load_state_dict(torch.load(root_path + dataset_path + \"model_vgg_fo_dict_init.pth\"))"
      ]
    },
    {
      "cell_type": "code",
      "execution_count": 57,
      "metadata": {
        "id": "5z7Hlu65QyFu"
      },
      "outputs": [],
      "source": [
        "train_datasets = Vgg16Dataset(\"./\", transform = data_transforms['train'], train = True)\n",
        "train_loader = torch.utils.data.DataLoader(dataset = train_datasets, batch_size = 70, shuffle = True)\n",
        "test_datasets = Vgg16Dataset(\"./\", transform = data_transforms['val'], train = False)\n",
        "test_loader = torch.utils.data.DataLoader(dataset = test_datasets, batch_size = 70, shuffle = True)"
      ]
    },
    {
      "cell_type": "code",
      "execution_count": 58,
      "metadata": {
        "colab": {
          "base_uri": "https://localhost:8080/"
        },
        "id": "KbfiF8OYaheP",
        "outputId": "d9dc14cb-0f24-46d0-cfb4-07151f72e73c"
      },
      "outputs": [
        {
          "output_type": "stream",
          "name": "stdout",
          "text": [
            "Epoch [ 1 / 100 ], Loss: 0.0222, val_loss: 0.0178, val_acc: 0.6133\n",
            "Epoch [ 2 / 100 ], Loss: 0.0168, val_loss: 0.0161, val_acc: 0.6488\n",
            "Epoch [ 3 / 100 ], Loss: 0.0151, val_loss: 0.0151, val_acc: 0.6694\n",
            "Epoch [ 4 / 100 ], Loss: 0.0138, val_loss: 0.0146, val_acc: 0.6815\n",
            "Epoch [ 5 / 100 ], Loss: 0.0128, val_loss: 0.0142, val_acc: 0.6914\n",
            "Epoch [ 6 / 100 ], Loss: 0.0116, val_loss: 0.0143, val_acc: 0.6991\n",
            "Epoch [ 7 / 100 ], Loss: 0.0106, val_loss: 0.0133, val_acc: 0.7222\n",
            "Epoch [ 8 / 100 ], Loss: 0.0097, val_loss: 0.0130, val_acc: 0.7351\n",
            "Epoch [ 9 / 100 ], Loss: 0.0088, val_loss: 0.0129, val_acc: 0.7372\n",
            "Epoch [ 10 / 100 ], Loss: 0.0077, val_loss: 0.0128, val_acc: 0.7526\n",
            "Epoch [ 11 / 100 ], Loss: 0.0068, val_loss: 0.0125, val_acc: 0.7623\n",
            "Epoch [ 12 / 100 ], Loss: 0.0061, val_loss: 0.0128, val_acc: 0.7686\n",
            "Epoch [ 13 / 100 ], Loss: 0.0056, val_loss: 0.0124, val_acc: 0.7742\n",
            "Epoch [ 14 / 100 ], Loss: 0.0050, val_loss: 0.0131, val_acc: 0.7792\n",
            "Epoch [ 15 / 100 ], Loss: 0.0046, val_loss: 0.0134, val_acc: 0.7769\n",
            "Epoch [ 16 / 100 ], Loss: 0.0042, val_loss: 0.0133, val_acc: 0.7814\n",
            "Epoch [ 17 / 100 ], Loss: 0.0038, val_loss: 0.0135, val_acc: 0.7853\n",
            "Epoch [ 18 / 100 ], Loss: 0.0037, val_loss: 0.0139, val_acc: 0.7802\n",
            "Epoch [ 19 / 100 ], Loss: 0.0033, val_loss: 0.0144, val_acc: 0.7814\n",
            "Epoch [ 20 / 100 ], Loss: 0.0031, val_loss: 0.0135, val_acc: 0.7887\n",
            "Epoch [ 21 / 100 ], Loss: 0.0030, val_loss: 0.0144, val_acc: 0.7916\n",
            "Epoch [ 22 / 100 ], Loss: 0.0027, val_loss: 0.0146, val_acc: 0.7958\n",
            "Epoch [ 23 / 100 ], Loss: 0.0025, val_loss: 0.0145, val_acc: 0.7922\n",
            "Epoch [ 24 / 100 ], Loss: 0.0026, val_loss: 0.0140, val_acc: 0.7939\n",
            "Epoch [ 25 / 100 ], Loss: 0.0024, val_loss: 0.0145, val_acc: 0.7903\n",
            "Epoch [ 26 / 100 ], Loss: 0.0024, val_loss: 0.0156, val_acc: 0.7868\n",
            "Epoch [ 27 / 100 ], Loss: 0.0023, val_loss: 0.0150, val_acc: 0.7941\n",
            "Epoch [ 28 / 100 ], Loss: 0.0021, val_loss: 0.0145, val_acc: 0.8017\n",
            "Epoch [ 29 / 100 ], Loss: 0.0020, val_loss: 0.0144, val_acc: 0.7961\n",
            "Epoch [ 30 / 100 ], Loss: 0.0018, val_loss: 0.0157, val_acc: 0.7916\n",
            "Epoch [ 31 / 100 ], Loss: 0.0019, val_loss: 0.0153, val_acc: 0.7931\n",
            "Epoch [ 32 / 100 ], Loss: 0.0019, val_loss: 0.0156, val_acc: 0.7894\n",
            "Epoch [ 33 / 100 ], Loss: 0.0020, val_loss: 0.0149, val_acc: 0.7991\n",
            "Epoch [ 34 / 100 ], Loss: 0.0019, val_loss: 0.0155, val_acc: 0.8019\n",
            "Epoch [ 35 / 100 ], Loss: 0.0017, val_loss: 0.0161, val_acc: 0.7919\n",
            "Epoch [ 36 / 100 ], Loss: 0.0019, val_loss: 0.0156, val_acc: 0.7977\n",
            "Epoch [ 37 / 100 ], Loss: 0.0017, val_loss: 0.0146, val_acc: 0.8010\n",
            "Epoch [ 38 / 100 ], Loss: 0.0019, val_loss: 0.0148, val_acc: 0.7983\n",
            "Epoch [ 39 / 100 ], Loss: 0.0016, val_loss: 0.0150, val_acc: 0.8021\n",
            "Epoch [ 40 / 100 ], Loss: 0.0015, val_loss: 0.0161, val_acc: 0.8009\n",
            "Epoch [ 41 / 100 ], Loss: 0.0017, val_loss: 0.0154, val_acc: 0.7917\n",
            "Epoch [ 42 / 100 ], Loss: 0.0016, val_loss: 0.0147, val_acc: 0.8018\n",
            "Epoch [ 43 / 100 ], Loss: 0.0015, val_loss: 0.0147, val_acc: 0.7929\n",
            "Epoch [ 44 / 100 ], Loss: 0.0016, val_loss: 0.0163, val_acc: 0.7977\n",
            "Epoch [ 45 / 100 ], Loss: 0.0014, val_loss: 0.0161, val_acc: 0.7966\n",
            "Epoch [ 46 / 100 ], Loss: 0.0016, val_loss: 0.0153, val_acc: 0.8021\n",
            "Epoch [ 47 / 100 ], Loss: 0.0017, val_loss: 0.0154, val_acc: 0.7970\n",
            "Epoch [ 48 / 100 ], Loss: 0.0014, val_loss: 0.0161, val_acc: 0.7989\n",
            "Epoch [ 49 / 100 ], Loss: 0.0015, val_loss: 0.0162, val_acc: 0.7996\n",
            "Epoch [ 50 / 100 ], Loss: 0.0013, val_loss: 0.0159, val_acc: 0.8045\n",
            "Epoch [ 51 / 100 ], Loss: 0.0014, val_loss: 0.0155, val_acc: 0.8032\n",
            "Epoch [ 52 / 100 ], Loss: 0.0014, val_loss: 0.0153, val_acc: 0.7989\n",
            "Epoch [ 53 / 100 ], Loss: 0.0013, val_loss: 0.0160, val_acc: 0.7974\n",
            "Epoch [ 54 / 100 ], Loss: 0.0014, val_loss: 0.0156, val_acc: 0.7984\n",
            "Epoch [ 55 / 100 ], Loss: 0.0014, val_loss: 0.0167, val_acc: 0.7986\n",
            "Epoch [ 56 / 100 ], Loss: 0.0014, val_loss: 0.0160, val_acc: 0.8036\n",
            "Epoch [ 57 / 100 ], Loss: 0.0012, val_loss: 0.0173, val_acc: 0.7987\n",
            "Epoch [ 58 / 100 ], Loss: 0.0014, val_loss: 0.0162, val_acc: 0.7965\n",
            "Epoch [ 59 / 100 ], Loss: 0.0013, val_loss: 0.0161, val_acc: 0.8035\n",
            "Epoch [ 60 / 100 ], Loss: 0.0013, val_loss: 0.0157, val_acc: 0.8021\n",
            "Epoch [ 61 / 100 ], Loss: 0.0014, val_loss: 0.0164, val_acc: 0.7975\n",
            "Epoch [ 62 / 100 ], Loss: 0.0013, val_loss: 0.0164, val_acc: 0.7953\n",
            "Epoch [ 63 / 100 ], Loss: 0.0013, val_loss: 0.0161, val_acc: 0.7989\n",
            "Epoch [ 64 / 100 ], Loss: 0.0012, val_loss: 0.0165, val_acc: 0.8027\n",
            "Epoch [ 65 / 100 ], Loss: 0.0012, val_loss: 0.0163, val_acc: 0.8012\n",
            "Epoch [ 66 / 100 ], Loss: 0.0011, val_loss: 0.0174, val_acc: 0.7955\n",
            "Epoch [ 67 / 100 ], Loss: 0.0013, val_loss: 0.0161, val_acc: 0.8033\n",
            "Epoch [ 68 / 100 ], Loss: 0.0013, val_loss: 0.0164, val_acc: 0.7960\n",
            "Epoch [ 69 / 100 ], Loss: 0.0014, val_loss: 0.0160, val_acc: 0.8012\n",
            "Epoch [ 70 / 100 ], Loss: 0.0014, val_loss: 0.0157, val_acc: 0.7992\n",
            "Epoch [ 71 / 100 ], Loss: 0.0011, val_loss: 0.0164, val_acc: 0.8020\n",
            "Epoch [ 72 / 100 ], Loss: 0.0012, val_loss: 0.0172, val_acc: 0.7985\n",
            "Epoch [ 73 / 100 ], Loss: 0.0013, val_loss: 0.0163, val_acc: 0.7967\n",
            "Epoch [ 74 / 100 ], Loss: 0.0012, val_loss: 0.0166, val_acc: 0.8012\n",
            "Epoch [ 75 / 100 ], Loss: 0.0012, val_loss: 0.0165, val_acc: 0.7961\n",
            "Epoch [ 76 / 100 ], Loss: 0.0011, val_loss: 0.0162, val_acc: 0.8051\n",
            "Epoch [ 77 / 100 ], Loss: 0.0012, val_loss: 0.0162, val_acc: 0.7999\n",
            "Epoch [ 78 / 100 ], Loss: 0.0012, val_loss: 0.0169, val_acc: 0.7969\n",
            "Epoch [ 79 / 100 ], Loss: 0.0011, val_loss: 0.0168, val_acc: 0.8024\n",
            "Epoch [ 80 / 100 ], Loss: 0.0011, val_loss: 0.0167, val_acc: 0.8038\n",
            "Epoch [ 81 / 100 ], Loss: 0.0011, val_loss: 0.0158, val_acc: 0.8033\n",
            "Epoch [ 82 / 100 ], Loss: 0.0011, val_loss: 0.0163, val_acc: 0.8026\n",
            "Epoch [ 83 / 100 ], Loss: 0.0010, val_loss: 0.0175, val_acc: 0.8010\n",
            "Epoch [ 84 / 100 ], Loss: 0.0012, val_loss: 0.0161, val_acc: 0.8008\n",
            "Epoch [ 85 / 100 ], Loss: 0.0012, val_loss: 0.0163, val_acc: 0.7995\n",
            "Epoch [ 86 / 100 ], Loss: 0.0011, val_loss: 0.0170, val_acc: 0.8012\n",
            "Epoch [ 87 / 100 ], Loss: 0.0011, val_loss: 0.0167, val_acc: 0.7965\n",
            "Epoch [ 88 / 100 ], Loss: 0.0010, val_loss: 0.0169, val_acc: 0.8003\n",
            "Epoch [ 89 / 100 ], Loss: 0.0012, val_loss: 0.0163, val_acc: 0.7979\n",
            "Epoch [ 90 / 100 ], Loss: 0.0012, val_loss: 0.0165, val_acc: 0.7978\n",
            "Epoch [ 91 / 100 ], Loss: 0.0010, val_loss: 0.0174, val_acc: 0.7941\n",
            "Epoch [ 92 / 100 ], Loss: 0.0011, val_loss: 0.0167, val_acc: 0.7983\n",
            "Epoch [ 93 / 100 ], Loss: 0.0011, val_loss: 0.0169, val_acc: 0.7965\n",
            "Epoch [ 94 / 100 ], Loss: 0.0011, val_loss: 0.0165, val_acc: 0.8012\n",
            "Epoch [ 95 / 100 ], Loss: 0.0010, val_loss: 0.0162, val_acc: 0.7989\n",
            "Epoch [ 96 / 100 ], Loss: 0.0010, val_loss: 0.0178, val_acc: 0.8003\n",
            "Epoch [ 97 / 100 ], Loss: 0.0010, val_loss: 0.0171, val_acc: 0.8022\n",
            "Epoch [ 98 / 100 ], Loss: 0.0010, val_loss: 0.0165, val_acc: 0.8012\n",
            "Epoch [ 99 / 100 ], Loss: 0.0012, val_loss: 0.0172, val_acc: 0.8007\n",
            "Epoch [ 100 / 100 ], Loss: 0.0011, val_loss: 0.0161, val_acc: 0.8056\n"
          ]
        }
      ],
      "source": [
        "criterion = nn.CrossEntropyLoss()\n",
        "optimizer = optim.Adam(model.parameters(), lr = 0.0001, weight_decay = 5e-4)\n",
        "\n",
        "num_epochs = 100\n",
        "\n",
        "train_loss_list = []\n",
        "train_acc_list = []\n",
        "val_loss_list = []\n",
        "val_acc_list = []\n",
        "\n",
        "for epoch in range( num_epochs ):\n",
        "  train_loss = 0\n",
        "  train_acc = 0\n",
        "  val_loss = 0\n",
        "  val_acc = 0\n",
        "\n",
        "  # train\n",
        "  model.train()\n",
        "  for i, (images, labels) in enumerate(train_loader):\n",
        "    # view()での変換をしない\n",
        "    #print(labels)\n",
        "    images, labels = images.to(device), labels.to(device)\n",
        "\n",
        "    optimizer.zero_grad()\n",
        "    outputs = model(images)\n",
        "    loss = criterion( outputs, labels )\n",
        "    train_loss += loss.item()\n",
        "    train_acc += (outputs.max( 1 )[ 1 ] == labels).sum().item()\n",
        "    loss.backward()\n",
        "    optimizer.step()\n",
        "\n",
        "  avg_train_loss = train_loss / len( train_loader.dataset )\n",
        "  avg_train_acc = train_acc / len( train_loader.dataset )\n",
        "\n",
        "  # val\n",
        "  model.eval()\n",
        "  with torch.no_grad():\n",
        "    for images, labels in test_loader:\n",
        "      # view()での変換をしない\n",
        "      #print(labels)\n",
        "      images = images.to( device )\n",
        "      labels = labels.to( device )\n",
        "      outputs = model( images )\n",
        "      loss = criterion( outputs, labels )\n",
        "      val_loss += loss.item()\n",
        "      val_acc += ( outputs.max( 1 )[ 1 ] == labels ).sum().item()\n",
        "\n",
        "  avg_val_loss = val_loss / len( test_loader.dataset )\n",
        "  avg_val_acc = val_acc / len( test_loader.dataset )\n",
        "\n",
        "  print( \"Epoch [ {} / {} ], Loss: {loss:.4f}, val_loss: {val_loss:.4f}, val_acc: {val_acc:.4f}\".format( epoch + 1, num_epochs, i + 1, loss=avg_train_loss, val_loss = avg_val_loss, val_acc = avg_val_acc ))\n",
        "  train_loss_list.append( avg_train_loss )\n",
        "  train_acc_list.append( avg_train_acc )\n",
        "  val_loss_list.append( avg_val_loss )\n",
        "  val_acc_list.append( avg_val_acc )"
      ]
    },
    {
      "cell_type": "code",
      "execution_count": 59,
      "metadata": {
        "id": "z4Ehp5yGHiz8"
      },
      "outputs": [],
      "source": [
        "## SSDで利用する頭の部分のみ保存\n",
        "torch.save( model.vgg.state_dict(), '{}/model_vgg_fo_dict.pth'.format( root_path + dataset_path ) )"
      ]
    },
    {
      "cell_type": "code",
      "execution_count": 60,
      "metadata": {
        "colab": {
          "base_uri": "https://localhost:8080/",
          "height": 927
        },
        "id": "A45HTtssbgr2",
        "outputId": "c6e75e3b-3850-4333-8a03-c3c801003e8a"
      },
      "outputs": [
        {
          "output_type": "display_data",
          "data": {
            "text/plain": [
              "<Figure size 640x480 with 1 Axes>"
            ],
            "image/png": "[encoded data removed]"
          },
          "metadata": {}
        },
        {
          "output_type": "display_data",
          "data": {
            "text/plain": [
              "<Figure size 640x480 with 1 Axes>"
            ],
            "image/png": "[encoded data removed]"
          },
          "metadata": {}
        }
      ],
      "source": [
        "# 計算結果をプロットしていく\n",
        "plt.figure()\n",
        "plt.plot( range( num_epochs ), train_loss_list, color = 'blue', linestyle = '-', label = 'train_loss')\n",
        "plt.plot( range( num_epochs ), val_loss_list, color = 'green', linestyle = '--', label = 'val_loss' )\n",
        "plt.legend()\n",
        "plt.xlabel( 'epoch' )\n",
        "plt.ylabel( 'loss' )\n",
        "plt.title( 'Training and validation loss' )\n",
        "plt.grid()\n",
        "\n",
        "plt.figure()\n",
        "plt.plot( range( num_epochs ), train_acc_list, color = 'blue', linestyle = '-', label = 'train_acc' )\n",
        "plt.plot( range( num_epochs ), val_acc_list, color = 'green', linestyle = '--', label = 'val_acc' )\n",
        "plt.legend()\n",
        "plt.xlabel( 'epoch' )\n",
        "plt.ylabel( 'acc' )\n",
        "plt.title( 'Training and validation accuracy' )\n",
        "plt.grid()"
      ]
    }
  ],
  "metadata": {
    "accelerator": "GPU",
    "colab": {
      "machine_shape": "hm",
      "provenance": [],
      "authorship_tag": "ABX9TyOotboCPMxTWZU7A+0qifPI",
      "include_colab_link": true
    },
    "gpuClass": "standard",
    "kernelspec": {
      "display_name": "Python 3",
      "name": "python3"
    },
    "language_info": {
      "name": "python"
    }
  },
  "nbformat": 4,
  "nbformat_minor": 0
}